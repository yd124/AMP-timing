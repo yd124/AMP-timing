{
 "cells": [
  {
   "cell_type": "code",
   "execution_count": 3,
   "metadata": {
    "collapsed": false
   },
   "outputs": [
    {
     "name": "stdout",
     "output_type": "stream",
     "text": [
      "The autoreload extension is already loaded. To reload it, use:\n",
      "  %reload_ext autoreload\n"
     ]
    }
   ],
   "source": [
    "#!/usr/bin/env python\n",
    "%matplotlib inline  \n",
    "\n",
    "#ipython magic to make ampmodule autoreload\n",
    "%load_ext autoreload\n",
    "%autoreload 2\n",
    "\n",
    "import numpy as np\n",
    "import matplotlib.pyplot as plt\n",
    "#import scipy.integrate as spi\n",
    "import pandas as pd\n",
    "import scipy.stats as st \n",
    "#import sklearn.linear_model as slm \n",
    "\n",
    "#pull in the classes to do the sims!\n",
    "import AMPmodule2\n",
    "\n",
    "import resource\n",
    "resource.setrlimit(resource.RLIMIT_NOFILE, (1000,-1)) #allow many plots\n",
    "\n",
    "#all participants\n",
    "VD=np.array(pd.read_csv('data/viral_dynamics.csv',usecols=range(1,8)))\n"
   ]
  },
  {
   "cell_type": "code",
   "execution_count": 160,
   "metadata": {
    "collapsed": true
   },
   "outputs": [],
   "source": [
    "#simulate some viral loads and sample from AMP scheme\n",
    "\n",
    "obstimes=np.array([0,2,4,8,12,24]) #observation weeks post first positive\n",
    "\n",
    "nps=1000 #number of simulations, some will burn out\n",
    "vlobs=np.zeros([nps,len(obstimes)])\n",
    "rps=[]\n",
    "ets=[]\n",
    "fp=[]\n",
    "ppt=0\n",
    "while ppt<nps:\n",
    "    \n",
    "    exposure_day=np.random.uniform(0,28) #random exposure time in a 4 week interval \n",
    "    \n",
    "    rp=np.random.randint(0,len(VD)) #choose a random individual VD set\n",
    "    \n",
    "    p=AMPmodule2.participant(name=ppt, et=exposure_day, tF=300, stop2=False, A0=1, \n",
    "                  vdp=VD[rp,:], pkp=[1e-5,0,0,0], pdp=[1e5,1], v_flg=False)\n",
    "\n",
    "    t,sol=p.vd_sim()\n",
    "\n",
    "    VL=np.log10(sol[:,6]/p.vol*1e3+1e-3)\n",
    "\n",
    "    if (VL>-3).any():\n",
    "        #find when VL>100 (detection limit)\n",
    "        first_day_positive=t[np.argmax(VL>2)]\n",
    "\n",
    "        #find first detected\n",
    "        first_wk_detected=np.ceil(t[np.argmax(VL>2)]/7/4)*4\n",
    "\n",
    "        oti=0\n",
    "        for ot in obstimes:\n",
    "            vlobs[ppt,oti]=VL[np.argmax(t>((ot+first_wk_detected)*7))]\n",
    "            oti+=1\n",
    "\n",
    "        fp.append(first_day_positive)\n",
    "        rps.append(rp)\n",
    "        ets.append(exposure_day-first_wk_detected*7) #relative to first detection\n",
    "\n",
    "        ppt+=1\n",
    "        \n",
    "    #print(ppt)\n",
    "    \n",
    "#save dataframes\n",
    "pd.DataFrame.to_csv(pd.DataFrame(np.array(vlobs),columns=obstimes),'sparsedata.csv')\n",
    "pd.DataFrame.to_csv(pd.DataFrame(ets),'truetimes.csv')"
   ]
  },
  {
   "cell_type": "code",
   "execution_count": null,
   "metadata": {
    "collapsed": true
   },
   "outputs": [],
   "source": [
    "plt.boxplot(ets)"
   ]
  },
  {
   "cell_type": "code",
   "execution_count": null,
   "metadata": {
    "collapsed": true
   },
   "outputs": [],
   "source": [
    "plt.figure(figsize=(10,6))\n",
    "for ppt in range(20):            \n",
    "    plt.subplot(4,5,1+ppt)\n",
    "    plt.plot(obstimes,vlobs[ppt,:],'-o')\n",
    "    plt.ylim([-3,8])\n",
    "plt.tight_layout()"
   ]
  }
 ],
 "metadata": {
  "kernelspec": {
   "display_name": "Python 3",
   "language": "python",
   "name": "python3"
  },
  "language_info": {
   "codemirror_mode": {
    "name": "ipython",
    "version": 3
   },
   "file_extension": ".py",
   "mimetype": "text/x-python",
   "name": "python",
   "nbconvert_exporter": "python",
   "pygments_lexer": "ipython3",
   "version": "3.6.0"
  }
 },
 "nbformat": 4,
 "nbformat_minor": 2
}
